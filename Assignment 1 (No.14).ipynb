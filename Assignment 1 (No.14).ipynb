{
  "nbformat": 4,
  "nbformat_minor": 0,
  "metadata": {
    "colab": {
      "name": "Assignment1.ipynb",
      "provenance": [],
      "collapsed_sections": []
    },
    "kernelspec": {
      "name": "python3",
      "display_name": "Python 3"
    },
    "language_info": {
      "name": "python"
    }
  },
  "cells": [
    {
      "cell_type": "code",
      "metadata": {
        "colab": {
          "base_uri": "https://localhost:8080/"
        },
        "id": "CEkxTWgoFn1y",
        "outputId": "38c9b138-35c1-40b4-f80e-0dd02748a45b"
      },
      "source": [
        "print(\"Area and Perimeter\")\n",
        "\n",
        "side = int(input(\"Input Side : \"))\n",
        "\n",
        "def areaSquare( side ):\n",
        "    area = side * side\n",
        "    perimeter = 4 * side\n",
        "    return area, perimeter\n",
        " \n",
        "print(areaSquare(side))"
      ],
      "execution_count": null,
      "outputs": [
        {
          "output_type": "stream",
          "name": "stdout",
          "text": [
            "Area and Perimeter\n",
            "Input Side : 12\n",
            "(144, 48)\n"
          ]
        }
      ]
    }
  ]
}