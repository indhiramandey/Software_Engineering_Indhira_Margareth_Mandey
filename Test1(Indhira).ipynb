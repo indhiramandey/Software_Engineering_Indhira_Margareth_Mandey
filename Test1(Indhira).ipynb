{
  "nbformat": 4,
  "nbformat_minor": 0,
  "metadata": {
    "colab": {
      "name": "Test1(Indhira).ipynb",
      "provenance": []
    },
    "kernelspec": {
      "name": "python3",
      "display_name": "Python 3"
    },
    "language_info": {
      "name": "python"
    }
  },
  "cells": [
    {
      "cell_type": "code",
      "metadata": {
        "id": "ps43UZcEILP4"
      },
      "source": [
        "# Print\n",
        "a = 10 #int\n",
        "b = 3.14 #float\n",
        "c = \"I\" #string\n",
        "d = 'Indhira Mandey' #string\n",
        "e = True #Boolean\n",
        "f = False #Boolean\n",
        "g = [] #List\n",
        "h = {} #dictionary\n",
        "i = () #tuple"
      ],
      "execution_count": null,
      "outputs": []
    },
    {
      "cell_type": "code",
      "metadata": {
        "colab": {
          "base_uri": "https://localhost:8080/"
        },
        "id": "aYLRRRD6Kpkv",
        "outputId": "22dff190-b103-45db-8674-c4021e4d2e00"
      },
      "source": [
        "print(2)\n",
        "print(2+3*10)"
      ],
      "execution_count": null,
      "outputs": [
        {
          "output_type": "stream",
          "name": "stdout",
          "text": [
            "2\n",
            "32\n"
          ]
        }
      ]
    },
    {
      "cell_type": "code",
      "metadata": {
        "colab": {
          "base_uri": "https://localhost:8080/"
        },
        "id": "IjXcZj7aK6tz",
        "outputId": "7379c079-c4cc-4541-94a3-0f3e198334eb"
      },
      "source": [
        "# Concate (gabung)\n",
        "a = \"Indhira\"\n",
        "print(\"Hai namaku \" + d)"
      ],
      "execution_count": null,
      "outputs": [
        {
          "output_type": "stream",
          "name": "stdout",
          "text": [
            "Hai namaku Indhira Mandey\n"
          ]
        }
      ]
    },
    {
      "cell_type": "code",
      "metadata": {
        "id": "Hev2pQuRULLI"
      },
      "source": [
        "Nama_Siswa = [\"Bambang\",\"Budi\",\"Joko\",\"Alvin\", \"Said\", \"Mariano\",\"David\"]"
      ],
      "execution_count": 8,
      "outputs": []
    },
    {
      "cell_type": "code",
      "metadata": {
        "colab": {
          "base_uri": "https://localhost:8080/"
        },
        "id": "4hqsWTjfeAhJ",
        "outputId": "a42f3395-d7d1-4373-d7ff-8562d29f0e25"
      },
      "source": [
        "#Test sama ka Alvin\n",
        "\n",
        "Nama_Siswa[3:7:2]"
      ],
      "execution_count": 9,
      "outputs": [
        {
          "output_type": "execute_result",
          "data": {
            "text/plain": [
              "['Alvin', 'Mariano']"
            ]
          },
          "metadata": {},
          "execution_count": 9
        }
      ]
    },
    {
      "cell_type": "code",
      "metadata": {
        "colab": {
          "base_uri": "https://localhost:8080/"
        },
        "id": "-Gc5VW0neCs4",
        "outputId": "1ede10ba-6fd1-4865-8b70-5bc0d0e3d18e"
      },
      "source": [
        "print(\"{}\".format(Nama_Siswa[3]))"
      ],
      "execution_count": 10,
      "outputs": [
        {
          "output_type": "stream",
          "name": "stdout",
          "text": [
            "Alvin\n"
          ]
        }
      ]
    },
    {
      "cell_type": "code",
      "metadata": {
        "colab": {
          "base_uri": "https://localhost:8080/"
        },
        "id": "uUfmzZ7YeGHp",
        "outputId": "14e27100-6123-4083-fdf7-f95b77b996ff"
      },
      "source": [
        "print(\"{}\".format(Nama_Siswa[0:4:2]))"
      ],
      "execution_count": 11,
      "outputs": [
        {
          "output_type": "stream",
          "name": "stdout",
          "text": [
            "['Bambang', 'Joko']\n"
          ]
        }
      ]
    },
    {
      "cell_type": "code",
      "metadata": {
        "colab": {
          "base_uri": "https://localhost:8080/"
        },
        "id": "IjM0b6RYeIHO",
        "outputId": "4a915f9b-3439-4417-c821-b19a2a09eaf5"
      },
      "source": [
        "Nama_Siswa[-2:]"
      ],
      "execution_count": 12,
      "outputs": [
        {
          "output_type": "execute_result",
          "data": {
            "text/plain": [
              "['Mariano', 'David']"
            ]
          },
          "metadata": {},
          "execution_count": 12
        }
      ]
    },
    {
      "cell_type": "code",
      "metadata": {
        "colab": {
          "base_uri": "https://localhost:8080/"
        },
        "id": "QInWg9wyeI6J",
        "outputId": "426c173f-e53e-4c95-cb01-b9a77505df0d"
      },
      "source": [
        "# List Slicing\n",
        "Nama_Siswa[2:5] #2,3,4"
      ],
      "execution_count": 13,
      "outputs": [
        {
          "output_type": "execute_result",
          "data": {
            "text/plain": [
              "['Joko', 'Alvin', 'Said']"
            ]
          },
          "metadata": {},
          "execution_count": 13
        }
      ]
    },
    {
      "cell_type": "code",
      "metadata": {
        "colab": {
          "base_uri": "https://localhost:8080/"
        },
        "id": "JMfuzcsAeJBs",
        "outputId": "8e94d4a9-a4c3-47e9-acee-0c43ab2bb8ca"
      },
      "source": [
        "Nama_Siswa[3:-1]"
      ],
      "execution_count": 14,
      "outputs": [
        {
          "output_type": "execute_result",
          "data": {
            "text/plain": [
              "['Alvin', 'Said', 'Mariano']"
            ]
          },
          "metadata": {},
          "execution_count": 14
        }
      ]
    },
    {
      "cell_type": "code",
      "metadata": {
        "colab": {
          "base_uri": "https://localhost:8080/"
        },
        "id": "GAbQRZGkeO0R",
        "outputId": "ae7ce2e0-b2ac-458c-f59a-181a33299b40"
      },
      "source": [
        "Nama_Siswa[-2:]"
      ],
      "execution_count": 15,
      "outputs": [
        {
          "output_type": "execute_result",
          "data": {
            "text/plain": [
              "['Mariano', 'David']"
            ]
          },
          "metadata": {},
          "execution_count": 15
        }
      ]
    },
    {
      "cell_type": "code",
      "metadata": {
        "id": "qFOJRdVZeW7g"
      },
      "source": [
        "#Dictionary\n",
        "Dict1 = {\"Hewan\":\"Rabbit\", 0:29, \"Boolean\":False}"
      ],
      "execution_count": 27,
      "outputs": []
    },
    {
      "cell_type": "code",
      "metadata": {
        "colab": {
          "base_uri": "https://localhost:8080/"
        },
        "id": "70zQZm7ge4Zt",
        "outputId": "968a8379-7911-4705-ab2b-e87a8920bed2"
      },
      "source": [
        "print(Dict1[0])"
      ],
      "execution_count": 25,
      "outputs": [
        {
          "output_type": "stream",
          "name": "stdout",
          "text": [
            "29\n"
          ]
        }
      ]
    },
    {
      "cell_type": "code",
      "metadata": {
        "colab": {
          "base_uri": "https://localhost:8080/"
        },
        "id": "sDqu-8cKeYc4",
        "outputId": "8bd0048a-462f-43c9-8db3-54c031c89b04"
      },
      "source": [
        "print(Dict1[\"Boolean\"]) "
      ],
      "execution_count": 26,
      "outputs": [
        {
          "output_type": "stream",
          "name": "stdout",
          "text": [
            "False\n"
          ]
        }
      ]
    },
    {
      "cell_type": "code",
      "metadata": {
        "colab": {
          "base_uri": "https://localhost:8080/",
          "height": 35
        },
        "id": "XE2HbJAseaXJ",
        "outputId": "7e787118-a4b1-4ba6-9350-3e2ea8b7ff7b"
      },
      "source": [
        "Dict1[\"Hewan\"]"
      ],
      "execution_count": 28,
      "outputs": [
        {
          "output_type": "execute_result",
          "data": {
            "application/vnd.google.colaboratory.intrinsic+json": {
              "type": "string"
            },
            "text/plain": [
              "'Rabbit'"
            ]
          },
          "metadata": {},
          "execution_count": 28
        }
      ]
    },
    {
      "cell_type": "code",
      "metadata": {
        "colab": {
          "base_uri": "https://localhost:8080/"
        },
        "id": "Q2OpscpeepDz",
        "outputId": "a3279af6-89f2-4e2e-c7f8-4132dbcad647"
      },
      "source": [
        "Dict1[0]"
      ],
      "execution_count": 19,
      "outputs": [
        {
          "output_type": "execute_result",
          "data": {
            "text/plain": [
              "22"
            ]
          },
          "metadata": {},
          "execution_count": 19
        }
      ]
    },
    {
      "cell_type": "code",
      "metadata": {
        "colab": {
          "base_uri": "https://localhost:8080/"
        },
        "id": "zPnLx4Yweqw6",
        "outputId": "3d4e9740-8f6b-4c6d-d871-e253d2a75452"
      },
      "source": [
        "Dict1[\"Boolean\"]"
      ],
      "execution_count": 20,
      "outputs": [
        {
          "output_type": "execute_result",
          "data": {
            "text/plain": [
              "True"
            ]
          },
          "metadata": {},
          "execution_count": 20
        }
      ]
    },
    {
      "cell_type": "code",
      "metadata": {
        "colab": {
          "base_uri": "https://localhost:8080/",
          "height": 35
        },
        "id": "Q4TXmeVyeslO",
        "outputId": "5cdb0003-7b60-465c-ff8b-eb45dc1059f2"
      },
      "source": [
        "Nama_Siswa[6]"
      ],
      "execution_count": 21,
      "outputs": [
        {
          "output_type": "execute_result",
          "data": {
            "application/vnd.google.colaboratory.intrinsic+json": {
              "type": "string"
            },
            "text/plain": [
              "'David'"
            ]
          },
          "metadata": {},
          "execution_count": 21
        }
      ]
    },
    {
      "cell_type": "code",
      "metadata": {
        "colab": {
          "base_uri": "https://localhost:8080/",
          "height": 35
        },
        "id": "86jFSn8UevZ-",
        "outputId": "30a3431f-40dc-480f-9dba-eceff5faeef5"
      },
      "source": [
        "Nama_Siswa[-1]"
      ],
      "execution_count": 22,
      "outputs": [
        {
          "output_type": "execute_result",
          "data": {
            "application/vnd.google.colaboratory.intrinsic+json": {
              "type": "string"
            },
            "text/plain": [
              "'David'"
            ]
          },
          "metadata": {},
          "execution_count": 22
        }
      ]
    }
  ]
}